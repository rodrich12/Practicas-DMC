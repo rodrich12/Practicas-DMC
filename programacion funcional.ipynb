{
 "cells": [
  {
   "cell_type": "markdown",
   "id": "80b232e3",
   "metadata": {},
   "source": [
    "# Introduccion"
   ]
  },
  {
   "cell_type": "code",
   "execution_count": 2,
   "id": "0ab2fdc3",
   "metadata": {},
   "outputs": [],
   "source": [
    "def calculadora(valor1, valor2):\n",
    "    suma = valor1 + valor2\n",
    "    resta = valor1 - valor2\n",
    "    multiplicacion = valor1 * valor2\n",
    "    division = valor1 / valor2\n",
    "    return suma"
   ]
  },
  {
   "cell_type": "code",
   "execution_count": 3,
   "id": "8636f88b",
   "metadata": {},
   "outputs": [
    {
     "data": {
      "text/plain": [
       "10"
      ]
     },
     "execution_count": 3,
     "metadata": {},
     "output_type": "execute_result"
    }
   ],
   "source": [
    "calculadora(3,7)"
   ]
  },
  {
   "cell_type": "code",
   "execution_count": 4,
   "id": "fac8077e",
   "metadata": {},
   "outputs": [
    {
     "data": {
      "text/plain": [
       "7"
      ]
     },
     "execution_count": 4,
     "metadata": {},
     "output_type": "execute_result"
    }
   ],
   "source": [
    "a =calculadora(2,5)\n",
    "a"
   ]
  },
  {
   "cell_type": "code",
   "execution_count": 5,
   "id": "1f2d4575",
   "metadata": {},
   "outputs": [],
   "source": [
    "def calculadora3(valor1, valor2):\n",
    "    suma = valor1 + valor2\n",
    "    resta = valor1 - valor2\n",
    "    multiplicacion = valor1 * valor2\n",
    "    division = valor1 / valor2\n",
    "    return suma, resta, multiplicacion, division"
   ]
  },
  {
   "cell_type": "code",
   "execution_count": 6,
   "id": "6c8803af",
   "metadata": {},
   "outputs": [
    {
     "data": {
      "text/plain": [
       "(70, -10, 1200, 0.75)"
      ]
     },
     "execution_count": 6,
     "metadata": {},
     "output_type": "execute_result"
    }
   ],
   "source": [
    "calculadora3(30,40)"
   ]
  },
  {
   "cell_type": "code",
   "execution_count": 10,
   "id": "2ae23487",
   "metadata": {},
   "outputs": [
    {
     "name": "stdout",
     "output_type": "stream",
     "text": [
      "0.75\n"
     ]
    }
   ],
   "source": [
    "w,x,y,z = calculadora3(30,40)\n",
    "print(z)"
   ]
  },
  {
   "cell_type": "markdown",
   "id": "58e24a78",
   "metadata": {},
   "source": [
    "# Parametros"
   ]
  },
  {
   "cell_type": "code",
   "execution_count": null,
   "id": "d5d671ff",
   "metadata": {},
   "outputs": [],
   "source": []
  },
  {
   "cell_type": "code",
   "execution_count": null,
   "id": "7a99e908",
   "metadata": {},
   "outputs": [],
   "source": []
  },
  {
   "cell_type": "code",
   "execution_count": null,
   "id": "9ffccaec",
   "metadata": {},
   "outputs": [],
   "source": []
  },
  {
   "cell_type": "markdown",
   "id": "7a30863c",
   "metadata": {},
   "source": [
    "# Ejercicio 1"
   ]
  },
  {
   "cell_type": "code",
   "execution_count": 11,
   "id": "6e8d75a0",
   "metadata": {},
   "outputs": [],
   "source": [
    "def cuadrado (x):\n",
    "    return x * x"
   ]
  },
  {
   "cell_type": "code",
   "execution_count": 12,
   "id": "51daf803",
   "metadata": {},
   "outputs": [
    {
     "data": {
      "text/plain": [
       "25"
      ]
     },
     "execution_count": 12,
     "metadata": {},
     "output_type": "execute_result"
    }
   ],
   "source": [
    "cuadrado(5)"
   ]
  },
  {
   "cell_type": "markdown",
   "id": "49429d38",
   "metadata": {},
   "source": [
    "# Ejercicio 2"
   ]
  },
  {
   "cell_type": "code",
   "execution_count": 14,
   "id": "05a97a51",
   "metadata": {},
   "outputs": [],
   "source": [
    "def tabla_multiplicar (numero):\n",
    "    for i in range(1,11):\n",
    "        print(f\"{numero} x {i} = {numero * i}\")"
   ]
  },
  {
   "cell_type": "code",
   "execution_count": 15,
   "id": "61f469cd",
   "metadata": {},
   "outputs": [
    {
     "name": "stdout",
     "output_type": "stream",
     "text": [
      "7 x 1 = 7\n",
      "7 x 2 = 14\n",
      "7 x 3 = 21\n",
      "7 x 4 = 28\n",
      "7 x 5 = 35\n",
      "7 x 6 = 42\n",
      "7 x 7 = 49\n",
      "7 x 8 = 56\n",
      "7 x 9 = 63\n",
      "7 x 10 = 70\n"
     ]
    }
   ],
   "source": [
    "tabla_multiplicar(7)"
   ]
  },
  {
   "cell_type": "code",
   "execution_count": null,
   "id": "6622a140",
   "metadata": {},
   "outputs": [],
   "source": [
    "def calculadora4(valor1=1, valor2=1):\n",
    "    \"\"\"\"\n",
    "    Entrada : requiere 2 valores numéricos\n",
    "    Qué hace: suma de los 2 valores ingresados\n",
    "    Salida: devuelve la suma de esos 2 valores\n",
    "    \"\"\"\n",
    "\n",
    "\n",
    "    print(f\"Valor 1: {valor1}\")\n",
    "    print(f\"Valor 2: {valor2}\")\n",
    "    suma = valor1 + valor2\n",
    "    return suma"
   ]
  },
  {
   "cell_type": "code",
   "execution_count": 21,
   "id": "4fd075ad",
   "metadata": {},
   "outputs": [
    {
     "name": "stdout",
     "output_type": "stream",
     "text": [
      "Valor 1: 5\n",
      "Valor 2: 8\n"
     ]
    },
    {
     "data": {
      "text/plain": [
       "13"
      ]
     },
     "execution_count": 21,
     "metadata": {},
     "output_type": "execute_result"
    }
   ],
   "source": [
    "calculadora4(5,8)"
   ]
  },
  {
   "cell_type": "markdown",
   "id": "f23bdaa0",
   "metadata": {},
   "source": [
    "# Ejercicio 3"
   ]
  },
  {
   "cell_type": "code",
   "execution_count": null,
   "id": "7d4c22c0",
   "metadata": {},
   "outputs": [],
   "source": [
    "def millas_a_kilometros(millas=1):\n",
    "    \"\"\"\n",
    "    Convierte millas a kilómetros. 1 milla = 1.60934 kilómetros.\n",
    "    \"\"\"\n",
    "    return millas * 1.60934"
   ]
  },
  {
   "cell_type": "code",
   "execution_count": null,
   "id": "f37e3bf7",
   "metadata": {},
   "outputs": [
    {
     "data": {
      "text/plain": [
       "8.0467"
      ]
     },
     "execution_count": 23,
     "metadata": {},
     "output_type": "execute_result"
    }
   ],
   "source": [
    "millas_a_kilometros(5)  "
   ]
  },
  {
   "cell_type": "code",
   "execution_count": 26,
   "id": "18c52587",
   "metadata": {},
   "outputs": [],
   "source": [
    "def potencia(base, exponente):\n",
    "    if exponente == 0:\n",
    "        return 1\n",
    "    \n",
    "    return base * potencia(base, exponente - 1)"
   ]
  },
  {
   "cell_type": "code",
   "execution_count": 27,
   "id": "9c451395",
   "metadata": {},
   "outputs": [
    {
     "data": {
      "text/plain": [
       "8"
      ]
     },
     "execution_count": 27,
     "metadata": {},
     "output_type": "execute_result"
    }
   ],
   "source": [
    "potencia(2, 3)"
   ]
  },
  {
   "cell_type": "code",
   "execution_count": null,
   "id": "00618fc7",
   "metadata": {},
   "outputs": [],
   "source": [
    "def mcd(a,b):\n",
    "    if b == 0:\n",
    "        return a\n",
    "    else:\n",
    "        return mcd(b, a % b)"
   ]
  },
  {
   "cell_type": "markdown",
   "id": "470bdcea",
   "metadata": {},
   "source": [
    "# Lambda"
   ]
  },
  {
   "cell_type": "code",
   "execution_count": 24,
   "id": "a2110fac",
   "metadata": {},
   "outputs": [],
   "source": [
    "suma = lambda valor1,valor2: valor1 + valor2"
   ]
  },
  {
   "cell_type": "code",
   "execution_count": 25,
   "id": "50e9f7d4",
   "metadata": {},
   "outputs": [
    {
     "data": {
      "text/plain": [
       "17"
      ]
     },
     "execution_count": 25,
     "metadata": {},
     "output_type": "execute_result"
    }
   ],
   "source": [
    "suma(7,10)"
   ]
  }
 ],
 "metadata": {
  "kernelspec": {
   "display_name": ".venv",
   "language": "python",
   "name": "python3"
  },
  "language_info": {
   "codemirror_mode": {
    "name": "ipython",
    "version": 3
   },
   "file_extension": ".py",
   "mimetype": "text/x-python",
   "name": "python",
   "nbconvert_exporter": "python",
   "pygments_lexer": "ipython3",
   "version": "3.13.5"
  }
 },
 "nbformat": 4,
 "nbformat_minor": 5
}
